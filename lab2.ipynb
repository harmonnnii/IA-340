{
 "cells": [
  {
   "cell_type": "code",
   "execution_count": 9,
   "id": "9a7437ad-be2b-4c06-9ae8-d197dbe5f542",
   "metadata": {},
   "outputs": [
    {
     "data": {
      "text/html": [
       "<div>\n",
       "<style scoped>\n",
       "    .dataframe tbody tr th:only-of-type {\n",
       "        vertical-align: middle;\n",
       "    }\n",
       "\n",
       "    .dataframe tbody tr th {\n",
       "        vertical-align: top;\n",
       "    }\n",
       "\n",
       "    .dataframe thead th {\n",
       "        text-align: right;\n",
       "    }\n",
       "</style>\n",
       "<table border=\"1\" class=\"dataframe\">\n",
       "  <thead>\n",
       "    <tr style=\"text-align: right;\">\n",
       "      <th></th>\n",
       "      <th>Draw Date</th>\n",
       "      <th>Winning Numbers</th>\n",
       "      <th>Mega Ball</th>\n",
       "      <th>Multiplier</th>\n",
       "    </tr>\n",
       "  </thead>\n",
       "  <tbody>\n",
       "    <tr>\n",
       "      <th>2421</th>\n",
       "      <td>08/08/2025</td>\n",
       "      <td>02 06 08 14 49</td>\n",
       "      <td>12</td>\n",
       "      <td>NaN</td>\n",
       "    </tr>\n",
       "    <tr>\n",
       "      <th>2422</th>\n",
       "      <td>08/12/2025</td>\n",
       "      <td>01 08 31 56 67</td>\n",
       "      <td>23</td>\n",
       "      <td>NaN</td>\n",
       "    </tr>\n",
       "    <tr>\n",
       "      <th>2423</th>\n",
       "      <td>08/15/2025</td>\n",
       "      <td>04 17 27 34 69</td>\n",
       "      <td>16</td>\n",
       "      <td>NaN</td>\n",
       "    </tr>\n",
       "    <tr>\n",
       "      <th>2424</th>\n",
       "      <td>08/19/2025</td>\n",
       "      <td>10 19 24 49 68</td>\n",
       "      <td>10</td>\n",
       "      <td>NaN</td>\n",
       "    </tr>\n",
       "    <tr>\n",
       "      <th>2425</th>\n",
       "      <td>08/22/2025</td>\n",
       "      <td>18 30 44 48 50</td>\n",
       "      <td>12</td>\n",
       "      <td>NaN</td>\n",
       "    </tr>\n",
       "  </tbody>\n",
       "</table>\n",
       "</div>"
      ],
      "text/plain": [
       "       Draw Date Winning Numbers  Mega Ball  Multiplier\n",
       "2421  08/08/2025  02 06 08 14 49         12         NaN\n",
       "2422  08/12/2025  01 08 31 56 67         23         NaN\n",
       "2423  08/15/2025  04 17 27 34 69         16         NaN\n",
       "2424  08/19/2025  10 19 24 49 68         10         NaN\n",
       "2425  08/22/2025  18 30 44 48 50         12         NaN"
      ]
     },
     "execution_count": 9,
     "metadata": {},
     "output_type": "execute_result"
    }
   ],
   "source": [
    "import warnings\n",
    "warnings.simplefilter('ignore')\n",
    "\n",
    "import pandas as pd\n",
    "\n",
    "df = pd.read_csv('s3://ia340-2025-fall-harmoni-28280/Lottery_Mega_Millions_Winning_Numbers__Beginning_2002.csv') # load the data from s3\n",
    "df.head() #show the top 5 rows\n",
    "df.tail()"
   ]
  },
  {
   "cell_type": "markdown",
   "id": "dff04ed7-8410-4184-9f70-f9343d8973b2",
   "metadata": {},
   "source": [
    "There are 2426 rows and 4 colums"
   ]
  },
  {
   "cell_type": "code",
   "execution_count": null,
   "id": "966251cf-27e7-4853-89d3-28c2d5c89060",
   "metadata": {},
   "outputs": [],
   "source": []
  },
  {
   "cell_type": "code",
   "execution_count": 10,
   "id": "8e8e07ab-02f5-4d9e-a140-43d95ae47d18",
   "metadata": {},
   "outputs": [
    {
     "data": {
      "text/html": [
       "<div>\n",
       "<style scoped>\n",
       "    .dataframe tbody tr th:only-of-type {\n",
       "        vertical-align: middle;\n",
       "    }\n",
       "\n",
       "    .dataframe tbody tr th {\n",
       "        vertical-align: top;\n",
       "    }\n",
       "\n",
       "    .dataframe thead th {\n",
       "        text-align: right;\n",
       "    }\n",
       "</style>\n",
       "<table border=\"1\" class=\"dataframe\">\n",
       "  <thead>\n",
       "    <tr style=\"text-align: right;\">\n",
       "      <th></th>\n",
       "      <th>Mega Ball</th>\n",
       "      <th>Multiplier</th>\n",
       "    </tr>\n",
       "  </thead>\n",
       "  <tbody>\n",
       "    <tr>\n",
       "      <th>count</th>\n",
       "      <td>2426.000000</td>\n",
       "      <td>1483.000000</td>\n",
       "    </tr>\n",
       "    <tr>\n",
       "      <th>mean</th>\n",
       "      <td>17.754328</td>\n",
       "      <td>3.289278</td>\n",
       "    </tr>\n",
       "    <tr>\n",
       "      <th>std</th>\n",
       "      <td>12.609006</td>\n",
       "      <td>0.990133</td>\n",
       "    </tr>\n",
       "    <tr>\n",
       "      <th>min</th>\n",
       "      <td>1.000000</td>\n",
       "      <td>2.000000</td>\n",
       "    </tr>\n",
       "    <tr>\n",
       "      <th>25%</th>\n",
       "      <td>8.000000</td>\n",
       "      <td>2.000000</td>\n",
       "    </tr>\n",
       "    <tr>\n",
       "      <th>50%</th>\n",
       "      <td>15.000000</td>\n",
       "      <td>3.000000</td>\n",
       "    </tr>\n",
       "    <tr>\n",
       "      <th>75%</th>\n",
       "      <td>25.000000</td>\n",
       "      <td>4.000000</td>\n",
       "    </tr>\n",
       "    <tr>\n",
       "      <th>max</th>\n",
       "      <td>52.000000</td>\n",
       "      <td>5.000000</td>\n",
       "    </tr>\n",
       "  </tbody>\n",
       "</table>\n",
       "</div>"
      ],
      "text/plain": [
       "         Mega Ball   Multiplier\n",
       "count  2426.000000  1483.000000\n",
       "mean     17.754328     3.289278\n",
       "std      12.609006     0.990133\n",
       "min       1.000000     2.000000\n",
       "25%       8.000000     2.000000\n",
       "50%      15.000000     3.000000\n",
       "75%      25.000000     4.000000\n",
       "max      52.000000     5.000000"
      ]
     },
     "execution_count": 10,
     "metadata": {},
     "output_type": "execute_result"
    }
   ],
   "source": [
    "df.describe()"
   ]
  },
  {
   "cell_type": "code",
   "execution_count": 6,
   "id": "e2ede096-7e8f-4ca1-9054-cacc1bde97df",
   "metadata": {},
   "outputs": [
    {
     "name": "stdout",
     "output_type": "stream",
     "text": [
      "<class 'pandas.core.frame.DataFrame'>\n",
      "RangeIndex: 2426 entries, 0 to 2425\n",
      "Data columns (total 4 columns):\n",
      " #   Column           Non-Null Count  Dtype  \n",
      "---  ------           --------------  -----  \n",
      " 0   Draw Date        2426 non-null   object \n",
      " 1   Winning Numbers  2426 non-null   object \n",
      " 2   Mega Ball        2426 non-null   int64  \n",
      " 3   Multiplier       1483 non-null   float64\n",
      "dtypes: float64(1), int64(1), object(2)\n",
      "memory usage: 75.9+ KB\n"
     ]
    }
   ],
   "source": [
    "df.info()"
   ]
  },
  {
   "cell_type": "code",
   "execution_count": 11,
   "id": "acf9484d-65bc-4059-9d44-1d0a67dcf6ea",
   "metadata": {},
   "outputs": [
    {
     "data": {
      "text/plain": [
       "(2426, 4)"
      ]
     },
     "execution_count": 11,
     "metadata": {},
     "output_type": "execute_result"
    }
   ],
   "source": [
    "df.shape"
   ]
  },
  {
   "cell_type": "code",
   "execution_count": 12,
   "id": "4665510a-939b-4654-8a5a-1e3d830b4ba9",
   "metadata": {},
   "outputs": [],
   "source": [
    "df = df.rename(columns={'Winning Numbers': 'Lucky Numbers'})"
   ]
  },
  {
   "cell_type": "markdown",
   "id": "43c61b38-8792-4de9-bf18-b13765fff192",
   "metadata": {},
   "source": [
    "I renamed the column \"Winning Numbers\" to \"Lucky numbers\". I had 1483 missing values and was able to drop them with the dropna function."
   ]
  },
  {
   "cell_type": "markdown",
   "id": "a5a323ff-686c-4139-b392-1ae9018699c3",
   "metadata": {},
   "source": [
    "I selected the Mega Ball and received the number of the position of the Mega Ball"
   ]
  },
  {
   "cell_type": "markdown",
   "id": "f8de69f5-ec90-4ab1-8086-22611b4e9a07",
   "metadata": {},
   "source": []
  },
  {
   "cell_type": "code",
   "execution_count": 13,
   "id": "08a23ea7-ade6-4df3-9b88-60381ef91e70",
   "metadata": {},
   "outputs": [
    {
     "data": {
      "text/html": [
       "<div>\n",
       "<style scoped>\n",
       "    .dataframe tbody tr th:only-of-type {\n",
       "        vertical-align: middle;\n",
       "    }\n",
       "\n",
       "    .dataframe tbody tr th {\n",
       "        vertical-align: top;\n",
       "    }\n",
       "\n",
       "    .dataframe thead th {\n",
       "        text-align: right;\n",
       "    }\n",
       "</style>\n",
       "<table border=\"1\" class=\"dataframe\">\n",
       "  <thead>\n",
       "    <tr style=\"text-align: right;\">\n",
       "      <th></th>\n",
       "      <th>Draw Date</th>\n",
       "      <th>Lucky Numbers</th>\n",
       "      <th>Mega Ball</th>\n",
       "      <th>Multiplier</th>\n",
       "    </tr>\n",
       "  </thead>\n",
       "  <tbody>\n",
       "    <tr>\n",
       "      <th>0</th>\n",
       "      <td>09/25/2020</td>\n",
       "      <td>20 36 37 48 67</td>\n",
       "      <td>16</td>\n",
       "      <td>2.0</td>\n",
       "    </tr>\n",
       "    <tr>\n",
       "      <th>1</th>\n",
       "      <td>09/29/2020</td>\n",
       "      <td>14 39 43 44 67</td>\n",
       "      <td>19</td>\n",
       "      <td>3.0</td>\n",
       "    </tr>\n",
       "    <tr>\n",
       "      <th>2</th>\n",
       "      <td>10/02/2020</td>\n",
       "      <td>09 38 47 49 68</td>\n",
       "      <td>25</td>\n",
       "      <td>2.0</td>\n",
       "    </tr>\n",
       "    <tr>\n",
       "      <th>3</th>\n",
       "      <td>10/06/2020</td>\n",
       "      <td>15 16 18 39 59</td>\n",
       "      <td>17</td>\n",
       "      <td>3.0</td>\n",
       "    </tr>\n",
       "    <tr>\n",
       "      <th>4</th>\n",
       "      <td>10/09/2020</td>\n",
       "      <td>05 11 25 27 64</td>\n",
       "      <td>13</td>\n",
       "      <td>2.0</td>\n",
       "    </tr>\n",
       "    <tr>\n",
       "      <th>...</th>\n",
       "      <td>...</td>\n",
       "      <td>...</td>\n",
       "      <td>...</td>\n",
       "      <td>...</td>\n",
       "    </tr>\n",
       "    <tr>\n",
       "      <th>2381</th>\n",
       "      <td>03/21/2025</td>\n",
       "      <td>15 22 31 52 57</td>\n",
       "      <td>2</td>\n",
       "      <td>3.0</td>\n",
       "    </tr>\n",
       "    <tr>\n",
       "      <th>2382</th>\n",
       "      <td>03/25/2025</td>\n",
       "      <td>01 05 17 39 62</td>\n",
       "      <td>8</td>\n",
       "      <td>2.0</td>\n",
       "    </tr>\n",
       "    <tr>\n",
       "      <th>2383</th>\n",
       "      <td>03/28/2025</td>\n",
       "      <td>02 09 31 60 63</td>\n",
       "      <td>23</td>\n",
       "      <td>5.0</td>\n",
       "    </tr>\n",
       "    <tr>\n",
       "      <th>2384</th>\n",
       "      <td>04/01/2025</td>\n",
       "      <td>11 12 21 29 49</td>\n",
       "      <td>3</td>\n",
       "      <td>2.0</td>\n",
       "    </tr>\n",
       "    <tr>\n",
       "      <th>2385</th>\n",
       "      <td>04/04/2025</td>\n",
       "      <td>11 28 35 37 69</td>\n",
       "      <td>25</td>\n",
       "      <td>2.0</td>\n",
       "    </tr>\n",
       "  </tbody>\n",
       "</table>\n",
       "<p>1483 rows × 4 columns</p>\n",
       "</div>"
      ],
      "text/plain": [
       "       Draw Date   Lucky Numbers  Mega Ball  Multiplier\n",
       "0     09/25/2020  20 36 37 48 67         16         2.0\n",
       "1     09/29/2020  14 39 43 44 67         19         3.0\n",
       "2     10/02/2020  09 38 47 49 68         25         2.0\n",
       "3     10/06/2020  15 16 18 39 59         17         3.0\n",
       "4     10/09/2020  05 11 25 27 64         13         2.0\n",
       "...          ...             ...        ...         ...\n",
       "2381  03/21/2025  15 22 31 52 57          2         3.0\n",
       "2382  03/25/2025  01 05 17 39 62          8         2.0\n",
       "2383  03/28/2025  02 09 31 60 63         23         5.0\n",
       "2384  04/01/2025  11 12 21 29 49          3         2.0\n",
       "2385  04/04/2025  11 28 35 37 69         25         2.0\n",
       "\n",
       "[1483 rows x 4 columns]"
      ]
     },
     "execution_count": 13,
     "metadata": {},
     "output_type": "execute_result"
    }
   ],
   "source": [
    "df.dropna()"
   ]
  },
  {
   "cell_type": "code",
   "execution_count": 14,
   "id": "c2265394-c4f4-45dc-8f24-4267c3210d40",
   "metadata": {},
   "outputs": [
    {
     "data": {
      "text/plain": [
       "<bound method DataFrame.sum of       Draw Date  Lucky Numbers  Mega Ball  Multiplier\n",
       "0         False          False      False       False\n",
       "1         False          False      False       False\n",
       "2         False          False      False       False\n",
       "3         False          False      False       False\n",
       "4         False          False      False       False\n",
       "...         ...            ...        ...         ...\n",
       "2421      False          False      False        True\n",
       "2422      False          False      False        True\n",
       "2423      False          False      False        True\n",
       "2424      False          False      False        True\n",
       "2425      False          False      False        True\n",
       "\n",
       "[2426 rows x 4 columns]>"
      ]
     },
     "execution_count": 14,
     "metadata": {},
     "output_type": "execute_result"
    }
   ],
   "source": [
    "df.isnull().sum"
   ]
  },
  {
   "cell_type": "code",
   "execution_count": 15,
   "id": "fdfa0349-1a20-409a-ae8b-da9b95e4a153",
   "metadata": {},
   "outputs": [],
   "source": [
    "df = df.rename(columns={'Winning Numbers': 'Lucky Numbers'})"
   ]
  },
  {
   "cell_type": "code",
   "execution_count": 16,
   "id": "e68a8540-4873-4223-ad7e-6bf493c8df62",
   "metadata": {},
   "outputs": [
    {
     "data": {
      "text/html": [
       "<div>\n",
       "<style scoped>\n",
       "    .dataframe tbody tr th:only-of-type {\n",
       "        vertical-align: middle;\n",
       "    }\n",
       "\n",
       "    .dataframe tbody tr th {\n",
       "        vertical-align: top;\n",
       "    }\n",
       "\n",
       "    .dataframe thead th {\n",
       "        text-align: right;\n",
       "    }\n",
       "</style>\n",
       "<table border=\"1\" class=\"dataframe\">\n",
       "  <thead>\n",
       "    <tr style=\"text-align: right;\">\n",
       "      <th></th>\n",
       "      <th>Draw Date</th>\n",
       "      <th>Lucky Numbers</th>\n",
       "      <th>Mega Ball</th>\n",
       "      <th>Multiplier</th>\n",
       "    </tr>\n",
       "  </thead>\n",
       "  <tbody>\n",
       "    <tr>\n",
       "      <th>5</th>\n",
       "      <td>10/13/2020</td>\n",
       "      <td>11 44 45 46 70</td>\n",
       "      <td>25</td>\n",
       "      <td>2.0</td>\n",
       "    </tr>\n",
       "    <tr>\n",
       "      <th>6</th>\n",
       "      <td>10/16/2020</td>\n",
       "      <td>27 32 50 52 57</td>\n",
       "      <td>12</td>\n",
       "      <td>5.0</td>\n",
       "    </tr>\n",
       "    <tr>\n",
       "      <th>7</th>\n",
       "      <td>10/20/2020</td>\n",
       "      <td>46 54 57 58 66</td>\n",
       "      <td>10</td>\n",
       "      <td>3.0</td>\n",
       "    </tr>\n",
       "    <tr>\n",
       "      <th>8</th>\n",
       "      <td>10/23/2020</td>\n",
       "      <td>18 34 44 60 69</td>\n",
       "      <td>22</td>\n",
       "      <td>2.0</td>\n",
       "    </tr>\n",
       "    <tr>\n",
       "      <th>9</th>\n",
       "      <td>10/27/2020</td>\n",
       "      <td>06 13 34 46 62</td>\n",
       "      <td>1</td>\n",
       "      <td>3.0</td>\n",
       "    </tr>\n",
       "  </tbody>\n",
       "</table>\n",
       "</div>"
      ],
      "text/plain": [
       "    Draw Date   Lucky Numbers  Mega Ball  Multiplier\n",
       "5  10/13/2020  11 44 45 46 70         25         2.0\n",
       "6  10/16/2020  27 32 50 52 57         12         5.0\n",
       "7  10/20/2020  46 54 57 58 66         10         3.0\n",
       "8  10/23/2020  18 34 44 60 69         22         2.0\n",
       "9  10/27/2020  06 13 34 46 62          1         3.0"
      ]
     },
     "execution_count": 16,
     "metadata": {},
     "output_type": "execute_result"
    }
   ],
   "source": [
    "df[5:10]"
   ]
  },
  {
   "cell_type": "code",
   "execution_count": 17,
   "id": "ca3b642c-16aa-48ae-92bf-8776f79271fb",
   "metadata": {},
   "outputs": [
    {
     "data": {
      "text/html": [
       "<div>\n",
       "<style scoped>\n",
       "    .dataframe tbody tr th:only-of-type {\n",
       "        vertical-align: middle;\n",
       "    }\n",
       "\n",
       "    .dataframe tbody tr th {\n",
       "        vertical-align: top;\n",
       "    }\n",
       "\n",
       "    .dataframe thead th {\n",
       "        text-align: right;\n",
       "    }\n",
       "</style>\n",
       "<table border=\"1\" class=\"dataframe\">\n",
       "  <thead>\n",
       "    <tr style=\"text-align: right;\">\n",
       "      <th></th>\n",
       "      <th>Draw Date</th>\n",
       "      <th>Lucky Numbers</th>\n",
       "      <th>Mega Ball</th>\n",
       "      <th>Multiplier</th>\n",
       "    </tr>\n",
       "  </thead>\n",
       "  <tbody>\n",
       "    <tr>\n",
       "      <th>0</th>\n",
       "      <td>09/25/2020</td>\n",
       "      <td>20 36 37 48 67</td>\n",
       "      <td>16</td>\n",
       "      <td>2.0</td>\n",
       "    </tr>\n",
       "    <tr>\n",
       "      <th>1</th>\n",
       "      <td>09/29/2020</td>\n",
       "      <td>14 39 43 44 67</td>\n",
       "      <td>19</td>\n",
       "      <td>3.0</td>\n",
       "    </tr>\n",
       "    <tr>\n",
       "      <th>2</th>\n",
       "      <td>10/02/2020</td>\n",
       "      <td>09 38 47 49 68</td>\n",
       "      <td>25</td>\n",
       "      <td>2.0</td>\n",
       "    </tr>\n",
       "    <tr>\n",
       "      <th>3</th>\n",
       "      <td>10/06/2020</td>\n",
       "      <td>15 16 18 39 59</td>\n",
       "      <td>17</td>\n",
       "      <td>3.0</td>\n",
       "    </tr>\n",
       "    <tr>\n",
       "      <th>4</th>\n",
       "      <td>10/09/2020</td>\n",
       "      <td>05 11 25 27 64</td>\n",
       "      <td>13</td>\n",
       "      <td>2.0</td>\n",
       "    </tr>\n",
       "    <tr>\n",
       "      <th>...</th>\n",
       "      <td>...</td>\n",
       "      <td>...</td>\n",
       "      <td>...</td>\n",
       "      <td>...</td>\n",
       "    </tr>\n",
       "    <tr>\n",
       "      <th>2421</th>\n",
       "      <td>08/08/2025</td>\n",
       "      <td>02 06 08 14 49</td>\n",
       "      <td>12</td>\n",
       "      <td>NaN</td>\n",
       "    </tr>\n",
       "    <tr>\n",
       "      <th>2422</th>\n",
       "      <td>08/12/2025</td>\n",
       "      <td>01 08 31 56 67</td>\n",
       "      <td>23</td>\n",
       "      <td>NaN</td>\n",
       "    </tr>\n",
       "    <tr>\n",
       "      <th>2423</th>\n",
       "      <td>08/15/2025</td>\n",
       "      <td>04 17 27 34 69</td>\n",
       "      <td>16</td>\n",
       "      <td>NaN</td>\n",
       "    </tr>\n",
       "    <tr>\n",
       "      <th>2424</th>\n",
       "      <td>08/19/2025</td>\n",
       "      <td>10 19 24 49 68</td>\n",
       "      <td>10</td>\n",
       "      <td>NaN</td>\n",
       "    </tr>\n",
       "    <tr>\n",
       "      <th>2425</th>\n",
       "      <td>08/22/2025</td>\n",
       "      <td>18 30 44 48 50</td>\n",
       "      <td>12</td>\n",
       "      <td>NaN</td>\n",
       "    </tr>\n",
       "  </tbody>\n",
       "</table>\n",
       "<p>2009 rows × 4 columns</p>\n",
       "</div>"
      ],
      "text/plain": [
       "       Draw Date   Lucky Numbers  Mega Ball  Multiplier\n",
       "0     09/25/2020  20 36 37 48 67         16         2.0\n",
       "1     09/29/2020  14 39 43 44 67         19         3.0\n",
       "2     10/02/2020  09 38 47 49 68         25         2.0\n",
       "3     10/06/2020  15 16 18 39 59         17         3.0\n",
       "4     10/09/2020  05 11 25 27 64         13         2.0\n",
       "...          ...             ...        ...         ...\n",
       "2421  08/08/2025  02 06 08 14 49         12         NaN\n",
       "2422  08/12/2025  01 08 31 56 67         23         NaN\n",
       "2423  08/15/2025  04 17 27 34 69         16         NaN\n",
       "2424  08/19/2025  10 19 24 49 68         10         NaN\n",
       "2425  08/22/2025  18 30 44 48 50         12         NaN\n",
       "\n",
       "[2009 rows x 4 columns]"
      ]
     },
     "execution_count": 17,
     "metadata": {},
     "output_type": "execute_result"
    }
   ],
   "source": [
    "df[df['Mega Ball'] > 5]"
   ]
  },
  {
   "cell_type": "code",
   "execution_count": 18,
   "id": "14873dc1-4d6a-40e9-b584-0282c8eff7a6",
   "metadata": {},
   "outputs": [
    {
     "data": {
      "text/plain": [
       "0       16\n",
       "1       19\n",
       "2       25\n",
       "3       17\n",
       "4       13\n",
       "        ..\n",
       "2421    12\n",
       "2422    23\n",
       "2423    16\n",
       "2424    10\n",
       "2425    12\n",
       "Name: Mega Ball, Length: 2426, dtype: int64"
      ]
     },
     "execution_count": 18,
     "metadata": {},
     "output_type": "execute_result"
    }
   ],
   "source": [
    "df[\"Mega Ball\"]"
   ]
  },
  {
   "cell_type": "code",
   "execution_count": 19,
   "id": "d3a776fb-f5f0-4268-8e9f-c8d1189019b4",
   "metadata": {
    "scrolled": true
   },
   "outputs": [
    {
     "data": {
      "text/html": [
       "<div>\n",
       "<style scoped>\n",
       "    .dataframe tbody tr th:only-of-type {\n",
       "        vertical-align: middle;\n",
       "    }\n",
       "\n",
       "    .dataframe tbody tr th {\n",
       "        vertical-align: top;\n",
       "    }\n",
       "\n",
       "    .dataframe thead th {\n",
       "        text-align: right;\n",
       "    }\n",
       "</style>\n",
       "<table border=\"1\" class=\"dataframe\">\n",
       "  <thead>\n",
       "    <tr style=\"text-align: right;\">\n",
       "      <th></th>\n",
       "      <th>Draw Date</th>\n",
       "      <th>Lucky Numbers</th>\n",
       "      <th>Mega Ball</th>\n",
       "      <th>Multiplier</th>\n",
       "    </tr>\n",
       "  </thead>\n",
       "  <tbody>\n",
       "    <tr>\n",
       "      <th>731</th>\n",
       "      <td>04/22/2014</td>\n",
       "      <td>02 18 19 49 50</td>\n",
       "      <td>1</td>\n",
       "      <td>3.0</td>\n",
       "    </tr>\n",
       "    <tr>\n",
       "      <th>675</th>\n",
       "      <td>11/04/2014</td>\n",
       "      <td>09 15 24 39 41</td>\n",
       "      <td>1</td>\n",
       "      <td>4.0</td>\n",
       "    </tr>\n",
       "    <tr>\n",
       "      <th>691</th>\n",
       "      <td>09/09/2014</td>\n",
       "      <td>25 34 55 70 71</td>\n",
       "      <td>1</td>\n",
       "      <td>4.0</td>\n",
       "    </tr>\n",
       "    <tr>\n",
       "      <th>693</th>\n",
       "      <td>09/02/2014</td>\n",
       "      <td>01 08 54 69 72</td>\n",
       "      <td>1</td>\n",
       "      <td>3.0</td>\n",
       "    </tr>\n",
       "    <tr>\n",
       "      <th>2368</th>\n",
       "      <td>02/04/2025</td>\n",
       "      <td>14 24 31 53 54</td>\n",
       "      <td>1</td>\n",
       "      <td>3.0</td>\n",
       "    </tr>\n",
       "    <tr>\n",
       "      <th>...</th>\n",
       "      <td>...</td>\n",
       "      <td>...</td>\n",
       "      <td>...</td>\n",
       "      <td>...</td>\n",
       "    </tr>\n",
       "    <tr>\n",
       "      <th>1948</th>\n",
       "      <td>08/13/2002</td>\n",
       "      <td>03 10 15 18 25</td>\n",
       "      <td>52</td>\n",
       "      <td>NaN</td>\n",
       "    </tr>\n",
       "    <tr>\n",
       "      <th>1911</th>\n",
       "      <td>12/20/2002</td>\n",
       "      <td>10 14 41 46 49</td>\n",
       "      <td>52</td>\n",
       "      <td>NaN</td>\n",
       "    </tr>\n",
       "    <tr>\n",
       "      <th>1725</th>\n",
       "      <td>10/01/2004</td>\n",
       "      <td>08 10 17 24 39</td>\n",
       "      <td>52</td>\n",
       "      <td>NaN</td>\n",
       "    </tr>\n",
       "    <tr>\n",
       "      <th>1727</th>\n",
       "      <td>09/24/2004</td>\n",
       "      <td>11 26 30 49 50</td>\n",
       "      <td>52</td>\n",
       "      <td>NaN</td>\n",
       "    </tr>\n",
       "    <tr>\n",
       "      <th>1966</th>\n",
       "      <td>06/11/2002</td>\n",
       "      <td>05 06 09 33 44</td>\n",
       "      <td>52</td>\n",
       "      <td>NaN</td>\n",
       "    </tr>\n",
       "  </tbody>\n",
       "</table>\n",
       "<p>2426 rows × 4 columns</p>\n",
       "</div>"
      ],
      "text/plain": [
       "       Draw Date   Lucky Numbers  Mega Ball  Multiplier\n",
       "731   04/22/2014  02 18 19 49 50          1         3.0\n",
       "675   11/04/2014  09 15 24 39 41          1         4.0\n",
       "691   09/09/2014  25 34 55 70 71          1         4.0\n",
       "693   09/02/2014  01 08 54 69 72          1         3.0\n",
       "2368  02/04/2025  14 24 31 53 54          1         3.0\n",
       "...          ...             ...        ...         ...\n",
       "1948  08/13/2002  03 10 15 18 25         52         NaN\n",
       "1911  12/20/2002  10 14 41 46 49         52         NaN\n",
       "1725  10/01/2004  08 10 17 24 39         52         NaN\n",
       "1727  09/24/2004  11 26 30 49 50         52         NaN\n",
       "1966  06/11/2002  05 06 09 33 44         52         NaN\n",
       "\n",
       "[2426 rows x 4 columns]"
      ]
     },
     "execution_count": 19,
     "metadata": {},
     "output_type": "execute_result"
    }
   ],
   "source": [
    "df.sort_values(by='Mega Ball')"
   ]
  },
  {
   "cell_type": "code",
   "execution_count": 19,
   "id": "5191c372-3476-46bd-90d4-85a945d1ae2d",
   "metadata": {},
   "outputs": [
    {
     "data": {
      "text/html": [
       "<div>\n",
       "<style scoped>\n",
       "    .dataframe tbody tr th:only-of-type {\n",
       "        vertical-align: middle;\n",
       "    }\n",
       "\n",
       "    .dataframe tbody tr th {\n",
       "        vertical-align: top;\n",
       "    }\n",
       "\n",
       "    .dataframe thead th {\n",
       "        text-align: right;\n",
       "    }\n",
       "</style>\n",
       "<table border=\"1\" class=\"dataframe\">\n",
       "  <thead>\n",
       "    <tr style=\"text-align: right;\">\n",
       "      <th></th>\n",
       "      <th>Draw Date</th>\n",
       "      <th>Lucky Numbers</th>\n",
       "      <th>Mega Ball</th>\n",
       "      <th>Multiplier</th>\n",
       "    </tr>\n",
       "  </thead>\n",
       "  <tbody>\n",
       "    <tr>\n",
       "      <th>731</th>\n",
       "      <td>04/22/2014</td>\n",
       "      <td>02 18 19 49 50</td>\n",
       "      <td>1</td>\n",
       "      <td>3.0</td>\n",
       "    </tr>\n",
       "    <tr>\n",
       "      <th>675</th>\n",
       "      <td>11/04/2014</td>\n",
       "      <td>09 15 24 39 41</td>\n",
       "      <td>1</td>\n",
       "      <td>4.0</td>\n",
       "    </tr>\n",
       "    <tr>\n",
       "      <th>691</th>\n",
       "      <td>09/09/2014</td>\n",
       "      <td>25 34 55 70 71</td>\n",
       "      <td>1</td>\n",
       "      <td>4.0</td>\n",
       "    </tr>\n",
       "    <tr>\n",
       "      <th>693</th>\n",
       "      <td>09/02/2014</td>\n",
       "      <td>01 08 54 69 72</td>\n",
       "      <td>1</td>\n",
       "      <td>3.0</td>\n",
       "    </tr>\n",
       "    <tr>\n",
       "      <th>2368</th>\n",
       "      <td>02/04/2025</td>\n",
       "      <td>14 24 31 53 54</td>\n",
       "      <td>1</td>\n",
       "      <td>3.0</td>\n",
       "    </tr>\n",
       "    <tr>\n",
       "      <th>...</th>\n",
       "      <td>...</td>\n",
       "      <td>...</td>\n",
       "      <td>...</td>\n",
       "      <td>...</td>\n",
       "    </tr>\n",
       "    <tr>\n",
       "      <th>1948</th>\n",
       "      <td>08/13/2002</td>\n",
       "      <td>03 10 15 18 25</td>\n",
       "      <td>52</td>\n",
       "      <td>NaN</td>\n",
       "    </tr>\n",
       "    <tr>\n",
       "      <th>1911</th>\n",
       "      <td>12/20/2002</td>\n",
       "      <td>10 14 41 46 49</td>\n",
       "      <td>52</td>\n",
       "      <td>NaN</td>\n",
       "    </tr>\n",
       "    <tr>\n",
       "      <th>1725</th>\n",
       "      <td>10/01/2004</td>\n",
       "      <td>08 10 17 24 39</td>\n",
       "      <td>52</td>\n",
       "      <td>NaN</td>\n",
       "    </tr>\n",
       "    <tr>\n",
       "      <th>1727</th>\n",
       "      <td>09/24/2004</td>\n",
       "      <td>11 26 30 49 50</td>\n",
       "      <td>52</td>\n",
       "      <td>NaN</td>\n",
       "    </tr>\n",
       "    <tr>\n",
       "      <th>1966</th>\n",
       "      <td>06/11/2002</td>\n",
       "      <td>05 06 09 33 44</td>\n",
       "      <td>52</td>\n",
       "      <td>NaN</td>\n",
       "    </tr>\n",
       "  </tbody>\n",
       "</table>\n",
       "<p>2426 rows × 4 columns</p>\n",
       "</div>"
      ],
      "text/plain": [
       "       Draw Date   Lucky Numbers  Mega Ball  Multiplier\n",
       "731   04/22/2014  02 18 19 49 50          1         3.0\n",
       "675   11/04/2014  09 15 24 39 41          1         4.0\n",
       "691   09/09/2014  25 34 55 70 71          1         4.0\n",
       "693   09/02/2014  01 08 54 69 72          1         3.0\n",
       "2368  02/04/2025  14 24 31 53 54          1         3.0\n",
       "...          ...             ...        ...         ...\n",
       "1948  08/13/2002  03 10 15 18 25         52         NaN\n",
       "1911  12/20/2002  10 14 41 46 49         52         NaN\n",
       "1725  10/01/2004  08 10 17 24 39         52         NaN\n",
       "1727  09/24/2004  11 26 30 49 50         52         NaN\n",
       "1966  06/11/2002  05 06 09 33 44         52         NaN\n",
       "\n",
       "[2426 rows x 4 columns]"
      ]
     },
     "execution_count": 19,
     "metadata": {},
     "output_type": "execute_result"
    }
   ],
   "source": [
    "df.sort_values(by='Mega Ball')"
   ]
  },
  {
   "cell_type": "code",
   "execution_count": 22,
   "id": "935b8d79-5b5e-4b9f-bef9-dbcc53529729",
   "metadata": {},
   "outputs": [
    {
     "data": {
      "text/plain": [
       "Draw Date\n",
       "01/01/2008    0.0\n",
       "01/01/2010    0.0\n",
       "01/01/2013    4.0\n",
       "01/01/2016    5.0\n",
       "01/01/2019    4.0\n",
       "Name: Multiplier, dtype: float64"
      ]
     },
     "execution_count": 22,
     "metadata": {},
     "output_type": "execute_result"
    }
   ],
   "source": [
    "sum_cases_by_date = df.groupby('Draw Date')['Multiplier'].sum()\n",
    "sum_cases_by_date.head()"
   ]
  },
  {
   "cell_type": "code",
   "execution_count": null,
   "id": "af67afbf-5829-486d-b84f-862cf7fb95fd",
   "metadata": {},
   "outputs": [],
   "source": []
  },
  {
   "cell_type": "code",
   "execution_count": 24,
   "id": "d18c8ff3-51fb-4f36-8e8a-8d097635d6be",
   "metadata": {
    "scrolled": true
   },
   "outputs": [
    {
     "data": {
      "text/plain": [
       "<Axes: xlabel='Draw Date'>"
      ]
     },
     "execution_count": 24,
     "metadata": {},
     "output_type": "execute_result"
    },
    {
     "data": {
      "image/png": "[encoded data removed]",
      "text/plain": [
       "<Figure size 640x480 with 1 Axes>"
      ]
     },
     "metadata": {},
     "output_type": "display_data"
    }
   ],
   "source": [
    "sum_cases_by_date.plot()"
   ]
  },
  {
   "cell_type": "code",
   "execution_count": null,
   "id": "d4f474eb-bfd2-462f-ab20-5fdfe5b2db96",
   "metadata": {},
   "outputs": [],
   "source": []
  },
  {
   "cell_type": "code",
   "execution_count": null,
   "id": "df190456-e2a8-418e-9b8b-bd9d5f48ef4f",
   "metadata": {},
   "outputs": [],
   "source": []
  },
  {
   "cell_type": "code",
   "execution_count": null,
   "id": "5c414f3a-f272-4855-bf75-ca595ad99db3",
   "metadata": {},
   "outputs": [],
   "source": []
  },
  {
   "cell_type": "code",
   "execution_count": null,
   "id": "fb8aef8e-6f5e-4def-bf88-f2b15e1b99a0",
   "metadata": {},
   "outputs": [],
   "source": []
  },
  {
   "cell_type": "code",
   "execution_count": null,
   "id": "02e1e349-daca-40af-99d4-4f3de8fb0c57",
   "metadata": {},
   "outputs": [],
   "source": [
    "The first visualization shows the multiplier depending on the date."
   ]
  },
  {
   "cell_type": "code",
   "execution_count": 39,
   "id": "c0ffeeab-3048-4bbe-967c-a09a42f74384",
   "metadata": {},
   "outputs": [
    {
     "data": {
      "text/plain": [
       "<Axes: xlabel='Draw Date'>"
      ]
     },
     "execution_count": 39,
     "metadata": {},
     "output_type": "execute_result"
    },
    {
     "data": {
      "image/png": "[encoded data removed]",
      "text/plain": [
       "<Figure size 640x480 with 1 Axes>"
      ]
     },
     "metadata": {},
     "output_type": "display_data"
    }
   ],
   "source": [
    "sum_of_lucky_num = df.groupby('Draw Date')['Mega Ball'].sum() # calculate the total deaths per day\n",
    "sum_of_lucky_num.nlargest(40).plot.bar() # use a bar chart to show the results of the top 10 countries "
   ]
  },
  {
   "cell_type": "markdown",
   "id": "4128d936-9735-4f9d-907e-18340febaaca",
   "metadata": {},
   "source": [
    "The second visualization displays the Mega Ball number depending on the draw date, overall giving providing the possibility."
   ]
  }
 ],
 "metadata": {
  "kernelspec": {
   "display_name": "conda_python3",
   "language": "python",
   "name": "conda_python3"
  },
  "language_info": {
   "codemirror_mode": {
    "name": "ipython",
    "version": 3
   },
   "file_extension": ".py",
   "mimetype": "text/x-python",
   "name": "python",
   "nbconvert_exporter": "python",
   "pygments_lexer": "ipython3",
   "version": "3.10.18"
  }
 },
 "nbformat": 4,
 "nbformat_minor": 5
}
