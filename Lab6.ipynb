{
 "cells": [
  {
   "cell_type": "markdown",
   "id": "08326820-14f9-44b9-a13b-8d36fab7acc9",
   "metadata": {},
   "source": [
    "### Lab 6 - South Carolina "
   ]
  },
  {
   "cell_type": "code",
   "execution_count": 10,
   "id": "cbde6b00-64a8-4a4a-9cf8-219d694237cf",
   "metadata": {},
   "outputs": [],
   "source": [
    "import boto3\n",
    "from botocore.exceptions import ClientError\n",
    "import json\n",
    "\n",
    "def get_secret(secret_name):\n",
    "    region_name = \"us-east-1\"\n",
    "\n",
    "    # Create a Secrets Manager client\n",
    "    session = boto3.session.Session()\n",
    "    client = session.client(\n",
    "        service_name='secretsmanager',\n",
    "        region_name=region_name\n",
    "    )\n",
    "\n",
    "    try:\n",
    "        get_secret_value_response = client.get_secret_value(\n",
    "            SecretId=secret_name\n",
    "        )\n",
    "    except ClientError as e:\n",
    "        raise e\n",
    "\n",
    "    secret = get_secret_value_response['SecretString']\n",
    "    \n",
    "    return json.loads(secret)"
   ]
  },
  {
   "cell_type": "code",
   "execution_count": 11,
   "id": "a1534043-f211-44d1-aab7-5beb250395bb",
   "metadata": {},
   "outputs": [],
   "source": [
    "import psycopg2\n",
    "\n",
    "conn = psycopg2.connect(host=get_secret('postgresql')['host'],\n",
    "                      user=get_secret('postgresql')['username'],\n",
    "                      password = get_secret('postgresql')['password'],\n",
    "                      dbname=get_secret('postgresql')['engine'])\n",
    "\n",
    "cur = conn.cursor()"
   ]
  },
  {
   "cell_type": "code",
   "execution_count": 14,
   "id": "d9525879-1702-44f1-bfe0-c8222e32f8a7",
   "metadata": {},
   "outputs": [
    {
     "name": "stdout",
     "output_type": "stream",
     "text": [
      "Requirement already satisfied: pip in /home/ec2-user/anaconda3/envs/python3/lib/python3.10/site-packages (25.2)\n",
      "Requirement already satisfied: setuptools in /home/ec2-user/anaconda3/envs/python3/lib/python3.10/site-packages (80.9.0)\n",
      "Requirement already satisfied: wheel in /home/ec2-user/anaconda3/envs/python3/lib/python3.10/site-packages (0.45.1)\n",
      "Note: you may need to restart the kernel to use updated packages.\n"
     ]
    }
   ],
   "source": [
    "pip install -U pip setuptools wheel"
   ]
  },
  {
   "cell_type": "code",
   "execution_count": 15,
   "id": "3d0be846-deb1-4f1a-99e7-a46a45d98bec",
   "metadata": {},
   "outputs": [
    {
     "name": "stdout",
     "output_type": "stream",
     "text": [
      "Collecting tiktoken>=0.7.0\n",
      "  Downloading tiktoken-0.11.0-cp310-cp310-manylinux_2_17_x86_64.manylinux2014_x86_64.whl.metadata (6.7 kB)\n",
      "Requirement already satisfied: regex>=2022.1.18 in /home/ec2-user/anaconda3/envs/python3/lib/python3.10/site-packages (from tiktoken>=0.7.0) (2025.9.18)\n",
      "Requirement already satisfied: requests>=2.26.0 in /home/ec2-user/anaconda3/envs/python3/lib/python3.10/site-packages (from tiktoken>=0.7.0) (2.32.5)\n",
      "Requirement already satisfied: charset_normalizer<4,>=2 in /home/ec2-user/anaconda3/envs/python3/lib/python3.10/site-packages (from requests>=2.26.0->tiktoken>=0.7.0) (3.4.3)\n",
      "Requirement already satisfied: idna<4,>=2.5 in /home/ec2-user/anaconda3/envs/python3/lib/python3.10/site-packages (from requests>=2.26.0->tiktoken>=0.7.0) (3.10)\n",
      "Requirement already satisfied: urllib3<3,>=1.21.1 in /home/ec2-user/anaconda3/envs/python3/lib/python3.10/site-packages (from requests>=2.26.0->tiktoken>=0.7.0) (2.5.0)\n",
      "Requirement already satisfied: certifi>=2017.4.17 in /home/ec2-user/anaconda3/envs/python3/lib/python3.10/site-packages (from requests>=2.26.0->tiktoken>=0.7.0) (2025.8.3)\n",
      "Downloading tiktoken-0.11.0-cp310-cp310-manylinux_2_17_x86_64.manylinux2014_x86_64.whl (1.2 MB)\n",
      "\u001b[2K   \u001b[90m━━━━━━━━━━━━━━━━━━━━━━━━━━━━━━━━━━━━━━━━\u001b[0m \u001b[32m1.2/1.2 MB\u001b[0m \u001b[31m78.8 MB/s\u001b[0m  \u001b[33m0:00:00\u001b[0m\n",
      "\u001b[?25hInstalling collected packages: tiktoken\n",
      "Successfully installed tiktoken-0.11.0\n",
      "Note: you may need to restart the kernel to use updated packages.\n"
     ]
    }
   ],
   "source": [
    "pip install --only-binary=:all: \"tiktoken>=0.7.0\""
   ]
  },
  {
   "cell_type": "code",
   "execution_count": null,
   "id": "8d7e3030-333c-4c27-85a8-d65ea775971a",
   "metadata": {},
   "outputs": [],
   "source": [
    "pip install \"jupyter-ai-magics[all]\" -q"
   ]
  },
  {
   "cell_type": "code",
   "execution_count": null,
   "id": "82f2191c-0c8b-4049-bf24-2b401728cdcb",
   "metadata": {},
   "outputs": [],
   "source": []
  },
  {
   "cell_type": "markdown",
   "id": "6b2f2916-74d6-41df-99f2-35ac43c0bb9a",
   "metadata": {},
   "source": [
    "## Q1 - Population Growth Rate "
   ]
  },
  {
   "cell_type": "markdown",
   "id": "9a87a029-0985-4867-91d5-b4a4c920267e",
   "metadata": {},
   "source": [
    "## Option a: calculation with sql"
   ]
  },
  {
   "cell_type": "markdown",
   "id": "b2010886-52e5-4e5a-9544-1e6de9203ab8",
   "metadata": {},
   "source": [
    "Explanation: The graph shows that South Carolina’s population has increased steadily \n",
    "throughout the years. The growth rate remains positive in most years, with \n",
    "some periods of slightly faster growth, especially in the late 2010s.  \n",
    "\n",
    "This trend suggests that more people are moving into South Carolina than \n",
    "leaving. The consistent growth may be due to the state’s job opportunities, \n",
    "moderate cost of living, and warmer climate, which attract new residents \n",
    "from other parts of the country."
   ]
  },
  {
   "cell_type": "code",
   "execution_count": null,
   "id": "9cdec693-f029-4e04-8409-dd57fec94115",
   "metadata": {},
   "outputs": [],
   "source": [
    "import pandas as pd\n",
    "import matplotlib.pyplot as plt\n",
    "\n",
    "query = \"\"\"\n",
    "SELECT p.year,\n",
    "       p.pop,\n",
    "       ROUND(100.0 * (p.pop - LAG(p.pop) OVER (ORDER BY p.year)) / LAG(p.pop) OVER (ORDER BY p.year), 2) \n",
    "       AS growth_rate\n",
    "FROM population p\n",
    "JOIN name n ON p.fips = n.fips\n",
    "WHERE n.name = 'South Carolina'\n",
    "ORDER BY p.year;\n",
    "\"\"\"\n",
    "\n",
    "df = pd.read_sql(query, conn)\n",
    "\n",
    "plt.figure(figsize=(10,6))\n",
    "plt.plot(df['year'], df['growth_rate'], marker='o', color=\"blue\")\n",
    "plt.title(\"Population Growth Rate in South Carolina\")\n",
    "plt.xlabel(\"Year\")\n",
    "plt.ylabel(\"Growth Rate (%)\")\n",
    "plt.grid(True)\n",
    "plt.show()\n",
    "\n"
   ]
  },
  {
   "cell_type": "markdown",
   "id": "05252c3e-b8cc-41db-8315-2acda05887ad",
   "metadata": {},
   "source": [
    "# Q2"
   ]
  },
  {
   "cell_type": "code",
   "execution_count": null,
   "id": "9c068a29-a4b3-4d4a-b9b4-548a62cfc276",
   "metadata": {},
   "outputs": [],
   "source": [
    "query = \"\"\"\n",
    "SELECT i.year, i.income, p.pop\n",
    "FROM income i\n",
    "JOIN population p \n",
    "  ON i.fips = p.fips AND i.year = p.year\n",
    "JOIN name n \n",
    "  ON i.fips = n.fips\n",
    "WHERE n.name = 'South Carolina'\n",
    "ORDER BY i.year;\n",
    "\"\"\"\n",
    "\n",
    "df = pd.read_sql(query, conn)\n",
    "\n",
    "fig, ax1 = plt.subplots(figsize=(10,6))\n",
    "\n",
    "ax1.set_xlabel(\"Year\")\n",
    "ax1.set_ylabel(\"Population\", color=\"tab:blue\")\n",
    "ax1.plot(df['year'], df['pop'], color=\"tab:blue\", marker=\"o\")\n",
    "ax1.tick_params(axis=\"y\", labelcolor=\"tab:blue\")\n",
    "\n",
    "ax2 = ax1.twinx()\n",
    "ax2.set_ylabel(\"Median Household Income\", color=\"tab:green\")\n",
    "ax2.plot(df['year'], df['income'], color=\"tab:green\", marker=\"s\")\n",
    "ax2.tick_params(axis=\"y\", labelcolor=\"tab:green\")\n",
    "\n",
    "plt.title(\"Population and Income Trends in South Carolina\")\n",
    "plt.show()\n"
   ]
  },
  {
   "cell_type": "markdown",
   "id": "e7e381f4-ae36-46f5-8e3e-c86cad1e3f3e",
   "metadata": {},
   "source": [
    "Both population and income show an upward trend in South Carolina. As the \n",
    "population continues to grow, median household income also rises over time.  \n",
    "\n",
    "This pattern suggests that the state’s economy is expanding along with its \n",
    "population. The increase in income may be supported by new job opportunities, \n",
    "business growth, and migration from higher-cost regions where people seek a \n",
    "better cost of living."
   ]
  },
  {
   "cell_type": "markdown",
   "id": "d94fa4aa-c60a-4e18-ae3b-fa25e3c8c835",
   "metadata": {},
   "source": [
    "### Q3 - How much did the median household income increase each year in South Carolina, and in which year was the biggest jump?"
   ]
  },
  {
   "cell_type": "code",
   "execution_count": null,
   "id": "1a747249-76a5-43dc-9e3e-26cf01428721",
   "metadata": {},
   "outputs": [],
   "source": [
    "query = \"\"\"\n",
    "SELECT \n",
    "    i.year,\n",
    "    i.income,\n",
    "    i.income - LAG(i.income) OVER (ORDER BY i.year) AS income_change\n",
    "FROM income i\n",
    "JOIN name n ON i.fips = n.fips\n",
    "WHERE n.name = 'South Carolina'\n",
    "ORDER BY i.year;\n",
    "\"\"\"\n",
    "df = pd.read_sql(query, conn)\n"
   ]
  },
  {
   "cell_type": "markdown",
   "id": "f655384e-5b6a-4714-9df8-fccb391a46f9",
   "metadata": {},
   "source": [
    "This chart shows how much median household income changed from one year to the next in South Carolina. Most years reflect positive income growth, but the amount varies.  \n",
    "\n",
    "The largest spike occurred in 2008, where income rose sharply compared to the year before. That may reflect a strong job market, minimum wage adjustments, or economic recovery during that period.\n",
    "\n",
    "Any years showing zero or negative change may be linked to broader economic slowdowns or inflation catching up with earnings.\n",
    "\n",
    "This analysis gives a more detailed view of how consistently income grows, not just whether it goes up over time.\n"
   ]
  },
  {
   "cell_type": "markdown",
   "id": "699c2413-9a30-477c-8298-017ad78bdcce",
   "metadata": {},
   "source": []
  },
  {
   "cell_type": "code",
   "execution_count": null,
   "id": "474e31bf-03c1-45bc-96b7-1dbd4a3a62a1",
   "metadata": {},
   "outputs": [],
   "source": []
  }
 ],
 "metadata": {
  "kernelspec": {
   "display_name": "conda_python3",
   "language": "python",
   "name": "conda_python3"
  },
  "language_info": {
   "codemirror_mode": {
    "name": "ipython",
    "version": 3
   },
   "file_extension": ".py",
   "mimetype": "text/x-python",
   "name": "python",
   "nbconvert_exporter": "python",
   "pygments_lexer": "ipython3",
   "version": "3.10.18"
  }
 },
 "nbformat": 4,
 "nbformat_minor": 5
}
